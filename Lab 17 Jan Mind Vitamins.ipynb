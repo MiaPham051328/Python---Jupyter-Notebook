{
 "cells": [
  {
   "cell_type": "markdown",
   "id": "c6f6c6fe",
   "metadata": {},
   "source": [
    "# FizzBuzz (spelled the programming way)\n",
    "[What exactly is FizzBuzz?](https://en.wikipedia.org/wiki/Fizz_buzz)  \n",
    "### Write code that returns the first 100 integers per the \"rules\" of FizzBuzz.\n",
    "1. Produce a list counting from 1 to 100.\n",
    "2. Any number divisible by 3 should be replaced with 'Fizz'\n",
    "3. Any number divisible by 5 should be replaced with 'Buzz'\n",
    "4. Any number divisible by 3 **and** 5 should be replaced with 'FizzBuzz'"
   ]
  },
  {
   "cell_type": "code",
   "execution_count": 1,
   "id": "cad45893",
   "metadata": {},
   "outputs": [
    {
     "name": "stdout",
     "output_type": "stream",
     "text": [
      "[1, 2, 'Fizz', 4, 'Buzz', 'Fizz', 7, 8, 'Fizz', 'Buzz', 11, 'Fizz', 13, 14, 'FizzBuzz', 16, 17, 'Fizz', 19, 'Buzz', 'Fizz', 22, 23, 'Fizz', 'Buzz', 26, 'Fizz', 28, 29, 'FizzBuzz', 31, 32, 'Fizz', 34, 'Buzz', 'Fizz', 37, 38, 'Fizz', 'Buzz', 41, 'Fizz', 43, 44, 'FizzBuzz', 46, 47, 'Fizz', 49, 'Buzz', 'Fizz', 52, 53, 'Fizz', 'Buzz', 56, 'Fizz', 58, 59, 'FizzBuzz', 61, 62, 'Fizz', 64, 'Buzz', 'Fizz', 67, 68, 'Fizz', 'Buzz', 71, 'Fizz', 73, 74, 'FizzBuzz', 76, 77, 'Fizz', 79, 'Buzz', 'Fizz', 82, 83, 'Fizz', 'Buzz', 86, 'Fizz', 88, 89, 'FizzBuzz', 91, 92, 'Fizz', 94, 'Buzz', 'Fizz', 97, 98, 'Fizz', 'Buzz']\n"
     ]
    }
   ],
   "source": [
    "# create a loop and output the following list:\n",
    "\n"
   ]
  },
  {
   "cell_type": "markdown",
   "id": "51967b07",
   "metadata": {},
   "source": [
    "# Yearly Investment Value\n",
    "1. Write code that will result in the statement you see below. \n",
    "2. Write a second block of code below, with the same input but uses a function to calculte the return."
   ]
  },
  {
   "cell_type": "code",
   "execution_count": 2,
   "id": "bac409f0",
   "metadata": {},
   "outputs": [
    {
     "name": "stdout",
     "output_type": "stream",
     "text": [
      "Enter the principle: 10_000\n",
      "Enter the interest rate: 3.2\n",
      "Enter the number of years (whole number only): 7\n"
     ]
    }
   ],
   "source": [
    "p = input('Enter the principle: ')\n",
    "r = input('Enter the interest rate: ')\n",
    "t = input('Enter the number of years (whole number only): ')"
   ]
  },
  {
   "cell_type": "code",
   "execution_count": 3,
   "id": "9d59114e",
   "metadata": {},
   "outputs": [
    {
     "name": "stdout",
     "output_type": "stream",
     "text": [
      "Your initial investment of $10,000.00 each year, at 3.2%, after 7 years:\n",
      "['$10,320.00', '$10,650.24', '$10,991.05', '$11,342.76', '$11,705.73', '$12,080.31', '$12,466.88']\n"
     ]
    }
   ],
   "source": [
    "# using a loop - no function required - output below\n",
    "\n"
   ]
  },
  {
   "cell_type": "code",
   "execution_count": 4,
   "id": "cd335e18",
   "metadata": {},
   "outputs": [
    {
     "name": "stdout",
     "output_type": "stream",
     "text": [
      "Your initial investment of $10,000.00 each year, at 3.2%, after 7 years:\n",
      "['$10,320.00', '$10,650.24', '$10,991.05', '$11,342.76', '$11,705.73', '$12,080.31', '$12,466.88']\n"
     ]
    }
   ],
   "source": [
    "# put your loop (and logic) into a function that returns the data in the output string...\n",
    "# hint - after the function I used tuple unpacking before printing, see below:\n",
    "### prin, rate, yrs, lst_returns = calc_return(p,r,t) ###\n",
    "\n"
   ]
  }
 ],
 "metadata": {
  "kernelspec": {
   "display_name": "Python 3 (ipykernel)",
   "language": "python",
   "name": "python3"
  },
  "language_info": {
   "codemirror_mode": {
    "name": "ipython",
    "version": 3
   },
   "file_extension": ".py",
   "mimetype": "text/x-python",
   "name": "python",
   "nbconvert_exporter": "python",
   "pygments_lexer": "ipython3",
   "version": "3.10.8"
  }
 },
 "nbformat": 4,
 "nbformat_minor": 5
}
