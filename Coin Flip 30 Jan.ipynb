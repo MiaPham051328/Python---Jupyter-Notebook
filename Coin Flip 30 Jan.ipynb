{
 "cells": [
  {
   "cell_type": "code",
   "execution_count": 1,
   "id": "0f4cbcd2",
   "metadata": {},
   "outputs": [],
   "source": [
    "import numpy as np\n",
    "import pandas as pd\n",
    "import random"
   ]
  },
  {
   "cell_type": "code",
   "execution_count": null,
   "id": "9d7719e4",
   "metadata": {},
   "outputs": [],
   "source": [
    "num = 1000000\n",
    "coin_Flip = []\n",
    "Flip = np.random.randint(0, 2)\n",
    "if (Flip == 0):\n",
    "    print('Heads')\n",
    "else:\n",
    "    print('Tails')"
   ]
  },
  {
   "cell_type": "code",
   "execution_count": null,
   "id": "a8313fd9",
   "metadata": {},
   "outputs": [],
   "source": [
    "num = 1000000\n",
    "coin_Flip = []\n",
    "Flip = np.random.randint(0, 2)\n",
    "if (Flip == 0):\n",
    "    coin_Flip.append('Heads')\n",
    "else:\n",
    "    coin_Flip.append('Tails')\n",
    "print(coin_Flip)"
   ]
  },
  {
   "cell_type": "code",
   "execution_count": 2,
   "id": "dc86b1f3",
   "metadata": {},
   "outputs": [
    {
     "data": {
      "text/plain": [
       "array([1, 0, 0, 0, 0, 1, 1, 1, 0, 0])"
      ]
     },
     "execution_count": 2,
     "metadata": {},
     "output_type": "execute_result"
    }
   ],
   "source": [
    "np.random.randint(0, 2, size = 10)"
   ]
  },
  {
   "cell_type": "code",
   "execution_count": 3,
   "id": "009533af",
   "metadata": {},
   "outputs": [
    {
     "data": {
      "text/plain": [
       "0.499811"
      ]
     },
     "execution_count": 3,
     "metadata": {},
     "output_type": "execute_result"
    }
   ],
   "source": [
    "np.random.seed(42)\n",
    "t = np.random.randint(0, 2, size = 1000000)\n",
    "np.mean(t)"
   ]
  },
  {
   "cell_type": "code",
   "execution_count": 4,
   "id": "548c9cf5",
   "metadata": {},
   "outputs": [
    {
     "data": {
      "text/plain": [
       "array([1, 1, 1, 1, 2, 2, 2, 2, 3])"
      ]
     },
     "execution_count": 4,
     "metadata": {},
     "output_type": "execute_result"
    }
   ],
   "source": [
    "np.cumsum(t)[1:10]"
   ]
  },
  {
   "cell_type": "code",
   "execution_count": 5,
   "id": "6e1ca4d0",
   "metadata": {},
   "outputs": [
    {
     "data": {
      "text/plain": [
       "499811"
      ]
     },
     "execution_count": 5,
     "metadata": {},
     "output_type": "execute_result"
    }
   ],
   "source": [
    "np.random.seed(42)\n",
    "sum(np.random.randint(0, 2, size = 1000000))"
   ]
  },
  {
   "cell_type": "code",
   "execution_count": 6,
   "id": "06ed3b46",
   "metadata": {},
   "outputs": [
    {
     "data": {
      "text/plain": [
       "array([ 1,  2,  3,  4,  5,  6,  7,  8,  9, 10])"
      ]
     },
     "execution_count": 6,
     "metadata": {},
     "output_type": "execute_result"
    }
   ],
   "source": [
    "trials = 1000000\n",
    "np.arange(1, trials+1)[0:10]"
   ]
  },
  {
   "cell_type": "code",
   "execution_count": 7,
   "id": "df00bb2c",
   "metadata": {},
   "outputs": [
    {
     "data": {
      "text/plain": [
       "array([0.        , 0.5       , 0.33333333, 0.25      , 0.2       ,\n",
       "       0.33333333, 0.28571429, 0.25      , 0.22222222, 0.3       ,\n",
       "       0.27272727, 0.25      , 0.23076923, 0.21428571, 0.26666667,\n",
       "       0.25      , 0.29411765, 0.33333333, 0.36842105, 0.35      ,\n",
       "       0.38095238, 0.36363636, 0.39130435, 0.41666667, 0.44      ,\n",
       "       0.46153846, 0.48148148, 0.5       , 0.51724138, 0.53333333,\n",
       "       0.51612903, 0.5       , 0.51515152, 0.52941176, 0.54285714,\n",
       "       0.52777778, 0.54054054, 0.52631579, 0.51282051, 0.5       ,\n",
       "       0.48780488, 0.47619048, 0.48837209, 0.5       , 0.51111111,\n",
       "       0.52173913, 0.53191489, 0.52083333, 0.53061224, 0.54      ])"
      ]
     },
     "execution_count": 7,
     "metadata": {},
     "output_type": "execute_result"
    }
   ],
   "source": [
    "np.cumsum(t)[0:50]/np.arange(1, trials+1)[0:50]"
   ]
  },
  {
   "cell_type": "code",
   "execution_count": 14,
   "id": "01277cba",
   "metadata": {},
   "outputs": [
    {
     "name": "stdout",
     "output_type": "stream",
     "text": [
      "CPU times: total: 0 ns\n",
      "Wall time: 0 ns\n"
     ]
    }
   ],
   "source": [
    "%%time\n",
    "np.random.seed(42)\n",
    "trials = 500\n",
    "t = np.random.randint(0, 2, size = trials)\n",
    "pct = (np.cumsum(t)/np.arange(1, trials+1))"
   ]
  },
  {
   "cell_type": "code",
   "execution_count": 15,
   "id": "f9244436",
   "metadata": {},
   "outputs": [
    {
     "data": {
      "text/plain": [
       "<AxesSubplot:xlabel='Trials'>"
      ]
     },
     "execution_count": 15,
     "metadata": {},
     "output_type": "execute_result"
    },
    {
     "data": {
      "image/png": "[encoded data removed]",
      "text/plain": [
       "<Figure size 640x480 with 1 Axes>"
      ]
     },
     "metadata": {},
     "output_type": "display_data"
    }
   ],
   "source": [
    "x = np.arange(1,trials+1, dtype=int)\n",
    "df =pd. DataFrame({'Trials': x\n",
    "              , 'Pct': pct})\n",
    "df.plot('Trials', 'Pct')"
   ]
  },
  {
   "cell_type": "code",
   "execution_count": 10,
   "id": "30ab80d5",
   "metadata": {},
   "outputs": [
    {
     "name": "stdout",
     "output_type": "stream",
     "text": [
      "['Tails']\n"
     ]
    }
   ],
   "source": [
    "num = 1000000\n",
    "coin_Flip = []\n",
    "Flip = np.random.randint(0, 2)\n",
    "if (Flip == 0):\n",
    "    coin_Flip.append('Heads')\n",
    "else:\n",
    "    coin_Flip.append('Tails')\n",
    "print(coin_Flip)"
   ]
  },
  {
   "cell_type": "code",
   "execution_count": null,
   "id": "192e4add",
   "metadata": {},
   "outputs": [],
   "source": []
  }
 ],
 "metadata": {
  "kernelspec": {
   "display_name": "Python 3 (ipykernel)",
   "language": "python",
   "name": "python3"
  },
  "language_info": {
   "codemirror_mode": {
    "name": "ipython",
    "version": 3
   },
   "file_extension": ".py",
   "mimetype": "text/x-python",
   "name": "python",
   "nbconvert_exporter": "python",
   "pygments_lexer": "ipython3",
   "version": "3.10.9"
  }
 },
 "nbformat": 4,
 "nbformat_minor": 5
}
