{
 "cells": [
  {
   "cell_type": "markdown",
   "id": "ddcb5806",
   "metadata": {},
   "source": [
    "# Dice Rolls - 2 Die"
   ]
  },
  {
   "cell_type": "code",
   "execution_count": 8,
   "id": "f5a5f139",
   "metadata": {},
   "outputs": [],
   "source": [
    "import pandas as pd\n",
    "import numpy as np"
   ]
  },
  {
   "cell_type": "code",
   "execution_count": null,
   "id": "4fe36d02",
   "metadata": {},
   "outputs": [],
   "source": [
    "np.random.randint(1,7) + np.random.randint(1,7)"
   ]
  },
  {
   "cell_type": "code",
   "execution_count": null,
   "id": "2df184e5",
   "metadata": {},
   "outputs": [],
   "source": [
    "%%time # check CPU speed\n",
    "num = 10000\n",
    "rolls_List = []\n",
    "for _ in range(num):\n",
    "    rolls_List.append(np.random.randint(1,7) + np.random.randint(1,7))"
   ]
  },
  {
   "cell_type": "code",
   "execution_count": 9,
   "id": "00125a3a",
   "metadata": {},
   "outputs": [
    {
     "name": "stdout",
     "output_type": "stream",
     "text": [
      "CPU times: total: 17.1 s\n",
      "Wall time: 17.1 s\n"
     ]
    }
   ],
   "source": [
    "%%time\n",
    "\n",
    "num = 1000000\n",
    "rolls_List = []\n",
    "doubles_Win = []\n",
    "for _ in range(num):\n",
    "    d1 = np.random.randint(1,7)\n",
    "    d2 = np.random.randint(1,7)\n",
    "    rolls_List.append(d1+ d2)\n",
    "    if d1==d2:\n",
    "        doubles_Win.append(1)"
   ]
  },
  {
   "cell_type": "code",
   "execution_count": 30,
   "id": "65f9b49c",
   "metadata": {},
   "outputs": [
    {
     "data": {
      "text/plain": [
       "6996500"
      ]
     },
     "execution_count": 30,
     "metadata": {},
     "output_type": "execute_result"
    }
   ],
   "source": [
    "sum(rolls_List) # sum(doubles_Win) "
   ]
  },
  {
   "cell_type": "code",
   "execution_count": 15,
   "id": "82a2099e",
   "metadata": {},
   "outputs": [],
   "source": [
    "rolls_List2 = np.sum(np.random.randint(1,7, size=(2,num)), axis=0)"
   ]
  },
  {
   "cell_type": "code",
   "execution_count": 16,
   "id": "45ca1597",
   "metadata": {},
   "outputs": [
    {
     "name": "stdout",
     "output_type": "stream",
     "text": [
      "CPU times: total: 62.5 ms\n",
      "Wall time: 69 ms\n"
     ]
    }
   ],
   "source": [
    "%%time\n",
    "rools_List2 = np.sum(np.random.randint(1,7, size=(2,num)), axis=0)"
   ]
  },
  {
   "cell_type": "code",
   "execution_count": 17,
   "id": "ae68e6ce",
   "metadata": {},
   "outputs": [
    {
     "data": {
      "text/plain": [
       "12"
      ]
     },
     "execution_count": 17,
     "metadata": {},
     "output_type": "execute_result"
    }
   ],
   "source": [
    "np.max(rolls_List)"
   ]
  },
  {
   "cell_type": "code",
   "execution_count": 18,
   "id": "1ec11b81",
   "metadata": {},
   "outputs": [],
   "source": [
    "rolls = pd.DataFrame({'Rolls':rolls_List2}) # block and have index"
   ]
  },
  {
   "cell_type": "code",
   "execution_count": 19,
   "id": "8afd008f",
   "metadata": {},
   "outputs": [
    {
     "data": {
      "text/plain": [
       "Rolls\n",
       "2      27507\n",
       "3      54959\n",
       "4      83569\n",
       "5     111332\n",
       "6     138793\n",
       "7     166604\n",
       "8     139069\n",
       "9     111399\n",
       "10     83324\n",
       "11     55731\n",
       "12     27713\n",
       "Name: Rolls, dtype: int64"
      ]
     },
     "execution_count": 19,
     "metadata": {},
     "output_type": "execute_result"
    }
   ],
   "source": [
    "rolls.groupby('Rolls')['Rolls'].count()"
   ]
  },
  {
   "cell_type": "code",
   "execution_count": 20,
   "id": "30eb13a7",
   "metadata": {},
   "outputs": [
    {
     "data": {
      "image/png": "[encoded data removed]",
      "text/plain": [
       "<Figure size 640x480 with 1 Axes>"
      ]
     },
     "metadata": {},
     "output_type": "display_data"
    }
   ],
   "source": [
    "rolls.plot(kind='hist', bins=11); #>11 will have gap space in chart"
   ]
  },
  {
   "cell_type": "code",
   "execution_count": null,
   "id": "3570c369",
   "metadata": {},
   "outputs": [],
   "source": []
  },
  {
   "cell_type": "code",
   "execution_count": 25,
   "id": "25eb3a78",
   "metadata": {},
   "outputs": [
    {
     "data": {
      "text/plain": [
       "array([[4, 5, 3, 5, 5, 2, 3, 3, 3, 5],\n",
       "       [4, 3, 6, 5, 2, 4, 6, 6, 2, 4]])"
      ]
     },
     "execution_count": 25,
     "metadata": {},
     "output_type": "execute_result"
    }
   ],
   "source": [
    "np.random.seed(42)\n",
    "np.random.randint(1,7, size=(2,10))   # 2 rows, 10 series of 2 dice"
   ]
  },
  {
   "cell_type": "code",
   "execution_count": 26,
   "id": "d1a32017",
   "metadata": {},
   "outputs": [
    {
     "data": {
      "text/plain": [
       "array([38, 42])"
      ]
     },
     "execution_count": 26,
     "metadata": {},
     "output_type": "execute_result"
    }
   ],
   "source": [
    "np.random.seed(42)\n",
    "np.sum(np.random.randint(1,7, size=(2,10)), axis=1)"
   ]
  },
  {
   "cell_type": "code",
   "execution_count": 27,
   "id": "d01f1ee9",
   "metadata": {},
   "outputs": [
    {
     "data": {
      "text/plain": [
       "38"
      ]
     },
     "execution_count": 27,
     "metadata": {},
     "output_type": "execute_result"
    }
   ],
   "source": [
    "np.random.seed(42)\n",
    "np.sum(np.random.randint(1,7, size=(2,10)), axis=1) [0]"
   ]
  },
  {
   "cell_type": "code",
   "execution_count": 28,
   "id": "52e26ba5",
   "metadata": {},
   "outputs": [],
   "source": [
    "?np.random.randint"
   ]
  },
  {
   "cell_type": "code",
   "execution_count": null,
   "id": "951dfbcb",
   "metadata": {},
   "outputs": [],
   "source": []
  }
 ],
 "metadata": {
  "kernelspec": {
   "display_name": "Python 3 (ipykernel)",
   "language": "python",
   "name": "python3"
  },
  "language_info": {
   "codemirror_mode": {
    "name": "ipython",
    "version": 3
   },
   "file_extension": ".py",
   "mimetype": "text/x-python",
   "name": "python",
   "nbconvert_exporter": "python",
   "pygments_lexer": "ipython3",
   "version": "3.10.9"
  }
 },
 "nbformat": 4,
 "nbformat_minor": 5
}
